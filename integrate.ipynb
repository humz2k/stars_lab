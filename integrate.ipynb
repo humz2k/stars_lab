{
 "cells": [
  {
   "cell_type": "code",
   "execution_count": 5,
   "metadata": {},
   "outputs": [],
   "source": [
    "import numpy as np\n",
    "import scipy.integrate\n",
    "import pandas as pd\n",
    "import matplotlib.pyplot as plt"
   ]
  },
  {
   "cell_type": "code",
   "execution_count": 6,
   "metadata": {},
   "outputs": [],
   "source": [
    "def read(f):\n",
    "    df = pd.read_csv(f).to_numpy()\n",
    "    return df[:,1],df[:,0]\n",
    "\n",
    "counts_no_filter,wavelengths_no_filter = read(\"data/Lab 1 - 120 V 30 ms.csv\")\n",
    "\n",
    "#df = pd.read_csv(\"data/Lab 1 - 120 V 30 ms.csv\").to_numpy()\n",
    "\n",
    "#wavelengths_no_filter = df[:,0]\n",
    "#counts_no_filter = df[:,1]"
   ]
  },
  {
   "cell_type": "code",
   "execution_count": 7,
   "metadata": {},
   "outputs": [
    {
     "name": "stdout",
     "output_type": "stream",
     "text": [
      "Red: 498633.8883333333\n",
      "Green: 140314.0708333333\n",
      "Ratio: 0.2813969810642599\n"
     ]
    }
   ],
   "source": [
    "green = scipy.integrate.simps(*read(\"data/Lab 1 - Green.csv\"))\n",
    "red = scipy.integrate.simps(*read(\"data/Lab 1 - Red.csv\"))\n",
    "print(\"Red:\",red)\n",
    "print(\"Green:\",green)\n",
    "print(\"Ratio:\",green/red)"
   ]
  },
  {
   "cell_type": "code",
   "execution_count": 4,
   "metadata": {},
   "outputs": [
    {
     "data": {
      "text/plain": [
       "754410.2599999999"
      ]
     },
     "execution_count": 4,
     "metadata": {},
     "output_type": "execute_result"
    }
   ],
   "source": [
    "scipy.integrate.simps(counts_no_filter,wavelengths_no_filter)"
   ]
  },
  {
   "cell_type": "code",
   "execution_count": null,
   "metadata": {},
   "outputs": [],
   "source": []
  }
 ],
 "metadata": {
  "kernelspec": {
   "display_name": "Python 3",
   "language": "python",
   "name": "python3"
  },
  "language_info": {
   "codemirror_mode": {
    "name": "ipython",
    "version": 3
   },
   "file_extension": ".py",
   "mimetype": "text/x-python",
   "name": "python",
   "nbconvert_exporter": "python",
   "pygments_lexer": "ipython3",
   "version": "3.9.2"
  }
 },
 "nbformat": 4,
 "nbformat_minor": 2
}
